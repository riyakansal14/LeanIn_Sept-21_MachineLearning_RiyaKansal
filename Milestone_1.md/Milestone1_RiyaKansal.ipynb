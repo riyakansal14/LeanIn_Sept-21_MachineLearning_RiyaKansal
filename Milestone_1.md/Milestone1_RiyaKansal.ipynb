{
 "cells": [
  {
   "cell_type": "markdown",
   "id": "572be515",
   "metadata": {},
   "source": [
    "# Q1. WAP with a function to print all the Armstrong numbers between 1 to 500."
   ]
  },
  {
   "cell_type": "code",
   "execution_count": 8,
   "id": "734399cb",
   "metadata": {},
   "outputs": [
    {
     "name": "stdout",
     "output_type": "stream",
     "text": [
      "1\n",
      "153\n",
      "370\n",
      "371\n",
      "407\n"
     ]
    }
   ],
   "source": [
    "def armstrong(i):\n",
    "    num = i\n",
    "    sum = 0\n",
    "    x = 0\n",
    "    while num > 0:\n",
    "        x = num % 10\n",
    "        sum += pow(x,3)\n",
    "        num = num//10\n",
    "    return sum\n",
    "    \n",
    "for i in range(1,500):\n",
    "    if(i == armstrong(i)):\n",
    "        print(i)"
   ]
  },
  {
   "cell_type": "markdown",
   "id": "12f2512b",
   "metadata": {},
   "source": [
    "# Q2. WAP with functions that respectively return the number of consonants and vowels in a given string. (Note: the string should be a sentence with at least 4 words.)"
   ]
  },
  {
   "cell_type": "code",
   "execution_count": 11,
   "id": "8223c071",
   "metadata": {},
   "outputs": [
    {
     "name": "stdout",
     "output_type": "stream",
     "text": [
      "Enter a string: Hello How are you?\n",
      "Consonants: 11\n",
      "Vowels: 7\n"
     ]
    }
   ],
   "source": [
    "def countChar(str):\n",
    "    vowel = 0\n",
    "    consonant = 0\n",
    "    str = str.lower()\n",
    "    for i in range(0,len(str)):\n",
    "        if(str[i] == 'a' or str[i] == 'e' or str[i] == 'i' or str[i] == 'o' or str[i] == 'u'):\n",
    "            vowel += 1\n",
    "        else:\n",
    "            consonant += 1\n",
    "    print(\"Consonants:\",consonant)\n",
    "    print(\"Vowels:\",vowel)\n",
    "    \n",
    "str = input(\"Enter a string: \")\n",
    "countChar(str)"
   ]
  },
  {
   "cell_type": "markdown",
   "id": "153336b4",
   "metadata": {},
   "source": [
    "# Q3. WAP to print the diagonal sum of the transpose of a given 2-d array."
   ]
  },
  {
   "cell_type": "code",
   "execution_count": 12,
   "id": "d10c913b",
   "metadata": {},
   "outputs": [
    {
     "name": "stdout",
     "output_type": "stream",
     "text": [
      "44\n"
     ]
    }
   ],
   "source": [
    "import numpy as np\n",
    "arr = np.array([[12,9,3],[23,22,21],[1,0,10]])\n",
    "arr.T\n",
    "print(arr.diagonal().sum())"
   ]
  },
  {
   "cell_type": "markdown",
   "id": "616675a4",
   "metadata": {},
   "source": [
    "# Q4. WAP with a function that returns the sum the series 4/3 + 9/4 + 16/5 + 25/6 + ....... nth term."
   ]
  },
  {
   "cell_type": "code",
   "execution_count": 17,
   "id": "b8fa2ccb",
   "metadata": {},
   "outputs": [
    {
     "name": "stdout",
     "output_type": "stream",
     "text": [
      "Enter no. of terms in series: 12\n"
     ]
    },
    {
     "data": {
      "text/plain": [
       "186140815080.135"
      ]
     },
     "execution_count": 17,
     "metadata": {},
     "output_type": "execute_result"
    }
   ],
   "source": [
    "def sum(num):\n",
    "    i = 4\n",
    "    j = 3\n",
    "    temp = 0\n",
    "    for x in range(1,num+1):\n",
    "        temp += (i/j)\n",
    "        y = i\n",
    "        i = j*j\n",
    "        j = y\n",
    "    return temp\n",
    "\n",
    "num = int(input(\"Enter no. of terms in series: \"))\n",
    "sum(num)"
   ]
  },
  {
   "cell_type": "markdown",
   "id": "4545d027",
   "metadata": {},
   "source": [
    "# Q5. WAP with a recursive function to check whether a string is palindrome or not."
   ]
  },
  {
   "cell_type": "code",
   "execution_count": 10,
   "id": "159bc001",
   "metadata": {},
   "outputs": [
    {
     "name": "stdout",
     "output_type": "stream",
     "text": [
      "Enter a string: naman\n",
      "naman is a pallindrome \n"
     ]
    }
   ],
   "source": [
    "def pal(str,i,j):\n",
    "    temp = True\n",
    "    if(i == j):\n",
    "        return temp\n",
    "    elif(str[i] == str[j]):\n",
    "        return pal(str,i+1,j-1)\n",
    "    else:\n",
    "        temp = False\n",
    "        return temp\n",
    "\n",
    "str = input(\"Enter a string: \")\n",
    "i = pal(str,0,len(str)-1)\n",
    "if(i == True):\n",
    "        print(f\"{str} is a pallindrome \")\n",
    "else:\n",
    "        print(f\"{str} is not a pallindrome\")"
   ]
  }
 ],
 "metadata": {
  "kernelspec": {
   "display_name": "Python 3",
   "language": "python",
   "name": "python3"
  },
  "language_info": {
   "codemirror_mode": {
    "name": "ipython",
    "version": 3
   },
   "file_extension": ".py",
   "mimetype": "text/x-python",
   "name": "python",
   "nbconvert_exporter": "python",
   "pygments_lexer": "ipython3",
   "version": "3.8.8"
  }
 },
 "nbformat": 4,
 "nbformat_minor": 5
}
